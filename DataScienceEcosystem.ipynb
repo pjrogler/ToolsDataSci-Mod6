{
 "cells": [
  {
   "cell_type": "markdown",
   "id": "dea3f19e-4af8-419f-adb5-f07ad8479477",
   "metadata": {},
   "source": [
    "# Data Science Tools and Ecosystem"
   ]
  },
  {
   "cell_type": "markdown",
   "id": "00fc663d-12f7-4539-9a8d-e600c1b9bd97",
   "metadata": {},
   "source": [
    "## Author\n",
    "Patrick"
   ]
  },
  {
   "cell_type": "markdown",
   "id": "694bb3e1-ae2a-41c5-ae9e-80b2109461ea",
   "metadata": {},
   "source": [
    "In this notebook Data Science Tools and Ecosystem are summarized."
   ]
  },
  {
   "cell_type": "markdown",
   "id": "7e9000bd-1489-41c3-9e26-f78ca15082c1",
   "metadata": {},
   "source": [
    "**Objectives:**\n",
    "* List some popular languages for data Science.\n",
    "* List some popular libraries used in Data Science.\n",
    "* Provide examples of arithmetic expressions in Python using Jupyter notebooks.\n",
    "* Illustrate how to create a table using markdown cells.\n",
    "* Illustrate how to create headers, and bold text using markdown cells."
   ]
  },
  {
   "cell_type": "markdown",
   "id": "9ff00bac-dcad-449e-936d-6d75c0e36769",
   "metadata": {},
   "source": [
    " ### **Some of the popular languages that Data Scientists use are:**"
   ]
  },
  {
   "cell_type": "markdown",
   "id": "4bcd105d-e9a8-4730-81ba-445be7400ad3",
   "metadata": {},
   "source": [
    "1. Python\n",
    "2. R\n",
    "3. SQL\n",
    "4. Julia\n",
    "5. Javascript"
   ]
  },
  {
   "cell_type": "markdown",
   "id": "7d67ecbb-f511-4b0d-b854-033640cc12ce",
   "metadata": {},
   "source": [
    "### **Some of the commonly used libraries used by Data Scientist include:**"
   ]
  },
  {
   "cell_type": "markdown",
   "id": "41949b4c-82aa-47b9-9284-fc92d9b97703",
   "metadata": {},
   "source": [
    "1. NumPy\n",
    "2. Pandas\n",
    "3. ggplot\n",
    "4. ggplot2\n",
    "5. Plotly\n"
   ]
  },
  {
   "cell_type": "markdown",
   "id": "bc155f61-005b-4638-970f-c03c94e77146",
   "metadata": {},
   "source": [
    "|Data Science Tools|\n",
    "|------------------|\n",
    "|Rstudio|\n",
    "|Jupyter|\n",
    "|Watson Studio|"
   ]
  },
  {
   "cell_type": "markdown",
   "id": "f6dfe565-eeb0-4cbd-98f9-a9db292d4bc6",
   "metadata": {},
   "source": [
    "### Below are a few examples of evaluating arithmetic expressions in Python"
   ]
  },
  {
   "cell_type": "code",
   "execution_count": 7,
   "id": "19e7643c-5969-47e8-a2b6-f373607a04b2",
   "metadata": {},
   "outputs": [
    {
     "data": {
      "text/plain": [
       "17"
      ]
     },
     "execution_count": 7,
     "metadata": {},
     "output_type": "execute_result"
    }
   ],
   "source": [
    "# This is a simple arithmetic expression to multiply then add integers.\n",
    "(3*4)+5"
   ]
  },
  {
   "cell_type": "code",
   "execution_count": 9,
   "id": "09885efa-de39-4563-9c84-eb8c652b8bfc",
   "metadata": {},
   "outputs": [
    {
     "name": "stdout",
     "output_type": "stream",
     "text": [
      "3.3333333333333335\n"
     ]
    }
   ],
   "source": [
    "# This will convert 200 minutes to hours by dividing by 60.\n",
    "\n",
    "minutes = 200 \n",
    "hours = minutes / 60 \n",
    "print(hours)\n"
   ]
  },
  {
   "cell_type": "code",
   "execution_count": null,
   "id": "e06a1335-7c74-46d1-af46-619262af9429",
   "metadata": {},
   "outputs": [],
   "source": []
  }
 ],
 "metadata": {
  "kernelspec": {
   "display_name": "Python 3 (ipykernel)",
   "language": "python",
   "name": "python3"
  },
  "language_info": {
   "codemirror_mode": {
    "name": "ipython",
    "version": 3
   },
   "file_extension": ".py",
   "mimetype": "text/x-python",
   "name": "python",
   "nbconvert_exporter": "python",
   "pygments_lexer": "ipython3",
   "version": "3.12.8"
  }
 },
 "nbformat": 4,
 "nbformat_minor": 5
}
